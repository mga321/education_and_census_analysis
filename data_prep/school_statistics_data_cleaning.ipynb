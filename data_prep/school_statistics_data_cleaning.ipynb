{
 "cells": [
  {
   "cell_type": "markdown",
   "metadata": {},
   "source": [
    "# Prep Original Dataset for Database Entry\n",
    "Excel can't handle the dataset due to it's autoformatting into scientific notation."
   ]
  },
  {
   "cell_type": "markdown",
   "metadata": {},
   "source": [
    "### Import requirements"
   ]
  },
  {
   "cell_type": "code",
   "execution_count": 1,
   "metadata": {},
   "outputs": [],
   "source": [
    "import numpy as np\n",
    "import pandas as pd"
   ]
  },
  {
   "cell_type": "markdown",
   "metadata": {
    "scrolled": true
   },
   "source": [
    "### Import dataset"
   ]
  },
  {
   "cell_type": "code",
   "execution_count": 2,
   "metadata": {
    "scrolled": true
   },
   "outputs": [
    {
     "data": {
      "text/html": [
       "<div>\n",
       "<style scoped>\n",
       "    .dataframe tbody tr th:only-of-type {\n",
       "        vertical-align: middle;\n",
       "    }\n",
       "\n",
       "    .dataframe tbody tr th {\n",
       "        vertical-align: top;\n",
       "    }\n",
       "\n",
       "    .dataframe thead th {\n",
       "        text-align: right;\n",
       "    }\n",
       "</style>\n",
       "<table border=\"1\" class=\"dataframe\">\n",
       "  <thead>\n",
       "    <tr style=\"text-align: right;\">\n",
       "      <th></th>\n",
       "      <th>school_id</th>\n",
       "      <th>school_name</th>\n",
       "      <th>street_address</th>\n",
       "      <th>city</th>\n",
       "      <th>state_code</th>\n",
       "      <th>zip_code</th>\n",
       "      <th>locale_code</th>\n",
       "      <th>pct_proficient_math</th>\n",
       "      <th>pct_proficient_reading</th>\n",
       "      <th>pct_white</th>\n",
       "      <th>pct_black</th>\n",
       "      <th>pct_asian</th>\n",
       "      <th>pct_hispanic</th>\n",
       "      <th>pct_amerindian</th>\n",
       "      <th>pct_nativehawaii</th>\n",
       "      <th>pct_tworaces</th>\n",
       "    </tr>\n",
       "  </thead>\n",
       "  <tbody>\n",
       "    <tr>\n",
       "      <th>0</th>\n",
       "      <td>10000500871</td>\n",
       "      <td>Albertville High Sch</td>\n",
       "      <td>402 E McCord Ave</td>\n",
       "      <td>Albertville</td>\n",
       "      <td>AL</td>\n",
       "      <td>35950</td>\n",
       "      <td>32.0</td>\n",
       "      <td>16.999999</td>\n",
       "      <td>54.000001</td>\n",
       "      <td>64.9018</td>\n",
       "      <td>2.0495</td>\n",
       "      <td>0.5978</td>\n",
       "      <td>31.4261</td>\n",
       "      <td>0.1708</td>\n",
       "      <td>0.0</td>\n",
       "      <td>0.854</td>\n",
       "    </tr>\n",
       "    <tr>\n",
       "      <th>1</th>\n",
       "      <td>10000600878</td>\n",
       "      <td>Douglas High Sch</td>\n",
       "      <td>225 Eagle Drive</td>\n",
       "      <td>Douglas</td>\n",
       "      <td>AL</td>\n",
       "      <td>35964</td>\n",
       "      <td>42.0</td>\n",
       "      <td>12.000000</td>\n",
       "      <td>51.999999</td>\n",
       "      <td>74.2373</td>\n",
       "      <td>1.5254</td>\n",
       "      <td>0.5085</td>\n",
       "      <td>23.0508</td>\n",
       "      <td>0.6780</td>\n",
       "      <td>0.0</td>\n",
       "      <td>0.000</td>\n",
       "    </tr>\n",
       "  </tbody>\n",
       "</table>\n",
       "</div>"
      ],
      "text/plain": [
       "     school_id           school_name    street_address         city  \\\n",
       "0  10000500871  Albertville High Sch  402 E McCord Ave  Albertville   \n",
       "1  10000600878      Douglas High Sch   225 Eagle Drive      Douglas   \n",
       "\n",
       "  state_code  zip_code  locale_code  pct_proficient_math  \\\n",
       "0         AL     35950         32.0            16.999999   \n",
       "1         AL     35964         42.0            12.000000   \n",
       "\n",
       "   pct_proficient_reading  pct_white  pct_black  pct_asian  pct_hispanic  \\\n",
       "0               54.000001    64.9018     2.0495     0.5978       31.4261   \n",
       "1               51.999999    74.2373     1.5254     0.5085       23.0508   \n",
       "\n",
       "   pct_amerindian  pct_nativehawaii  pct_tworaces  \n",
       "0          0.1708               0.0         0.854  \n",
       "1          0.6780               0.0         0.000  "
      ]
     },
     "execution_count": 2,
     "metadata": {},
     "output_type": "execute_result"
    }
   ],
   "source": [
    "# Import dataset\n",
    "df = pd.read_csv('original_school_statistics_data.csv')\n",
    "df.head(2)"
   ]
  },
  {
   "cell_type": "code",
   "execution_count": 3,
   "metadata": {
    "scrolled": false
   },
   "outputs": [
    {
     "name": "stdout",
     "output_type": "stream",
     "text": [
      "<class 'pandas.core.frame.DataFrame'>\n",
      "RangeIndex: 16623 entries, 0 to 16622\n",
      "Data columns (total 16 columns):\n",
      " #   Column                  Non-Null Count  Dtype  \n",
      "---  ------                  --------------  -----  \n",
      " 0   school_id               16623 non-null  int64  \n",
      " 1   school_name             16623 non-null  object \n",
      " 2   street_address          16623 non-null  object \n",
      " 3   city                    16623 non-null  object \n",
      " 4   state_code              16623 non-null  object \n",
      " 5   zip_code                16623 non-null  int64  \n",
      " 6   locale_code             16616 non-null  float64\n",
      " 7   pct_proficient_math     15773 non-null  float64\n",
      " 8   pct_proficient_reading  15820 non-null  float64\n",
      " 9   pct_white               16483 non-null  float64\n",
      " 10  pct_black               16483 non-null  float64\n",
      " 11  pct_asian               16483 non-null  float64\n",
      " 12  pct_hispanic            16483 non-null  float64\n",
      " 13  pct_amerindian          16483 non-null  float64\n",
      " 14  pct_nativehawaii        16483 non-null  float64\n",
      " 15  pct_tworaces            16483 non-null  float64\n",
      "dtypes: float64(10), int64(2), object(4)\n",
      "memory usage: 2.0+ MB\n"
     ]
    }
   ],
   "source": [
    "# Check dtypes\n",
    "df.info()"
   ]
  },
  {
   "cell_type": "code",
   "execution_count": 4,
   "metadata": {},
   "outputs": [],
   "source": [
    "# Convert locale_code to str\n",
    "df['locale_code'] = df['locale_code'].astype('str')"
   ]
  },
  {
   "cell_type": "code",
   "execution_count": 5,
   "metadata": {
    "scrolled": true
   },
   "outputs": [
    {
     "data": {
      "text/plain": [
       "school_id                   int64\n",
       "school_name                object\n",
       "street_address             object\n",
       "city                       object\n",
       "state_code                 object\n",
       "zip_code                    int64\n",
       "locale_code                object\n",
       "pct_proficient_math       float64\n",
       "pct_proficient_reading    float64\n",
       "pct_white                 float64\n",
       "pct_black                 float64\n",
       "pct_asian                 float64\n",
       "pct_hispanic              float64\n",
       "pct_amerindian            float64\n",
       "pct_nativehawaii          float64\n",
       "pct_tworaces              float64\n",
       "dtype: object"
      ]
     },
     "execution_count": 5,
     "metadata": {},
     "output_type": "execute_result"
    }
   ],
   "source": [
    "# Confirm str dtype\n",
    "df.dtypes"
   ]
  },
  {
   "cell_type": "code",
   "execution_count": 6,
   "metadata": {},
   "outputs": [],
   "source": [
    "# Slice sting to remove '.0' from all values\n",
    "df.locale_code = df.locale_code.str[0:2]"
   ]
  },
  {
   "cell_type": "code",
   "execution_count": 7,
   "metadata": {},
   "outputs": [
    {
     "data": {
      "text/plain": [
       "21    3554\n",
       "42    2349\n",
       "11    2024\n",
       "41    2004\n",
       "43    1754\n",
       "32    1219\n",
       "13     879\n",
       "33     764\n",
       "12     745\n",
       "31     549\n",
       "22     464\n",
       "23     311\n",
       "na       7\n",
       "Name: locale_code, dtype: int64"
      ]
     },
     "execution_count": 7,
     "metadata": {},
     "output_type": "execute_result"
    }
   ],
   "source": [
    "# Confirm success\n",
    "df.locale_code.value_counts()"
   ]
  },
  {
   "cell_type": "markdown",
   "metadata": {},
   "source": [
    "### Separate data into 2 new DataFrames"
   ]
  },
  {
   "cell_type": "code",
   "execution_count": 8,
   "metadata": {
    "scrolled": false
   },
   "outputs": [
    {
     "data": {
      "text/html": [
       "<div>\n",
       "<style scoped>\n",
       "    .dataframe tbody tr th:only-of-type {\n",
       "        vertical-align: middle;\n",
       "    }\n",
       "\n",
       "    .dataframe tbody tr th {\n",
       "        vertical-align: top;\n",
       "    }\n",
       "\n",
       "    .dataframe thead th {\n",
       "        text-align: right;\n",
       "    }\n",
       "</style>\n",
       "<table border=\"1\" class=\"dataframe\">\n",
       "  <thead>\n",
       "    <tr style=\"text-align: right;\">\n",
       "      <th></th>\n",
       "      <th>school_id</th>\n",
       "      <th>school_name</th>\n",
       "      <th>street_address</th>\n",
       "      <th>city</th>\n",
       "      <th>state_code</th>\n",
       "      <th>zip_code</th>\n",
       "      <th>locale_code</th>\n",
       "      <th>pct_proficient_math</th>\n",
       "      <th>pct_proficient_reading</th>\n",
       "      <th>pct_white</th>\n",
       "      <th>pct_black</th>\n",
       "      <th>pct_asian</th>\n",
       "      <th>pct_hispanic</th>\n",
       "      <th>pct_amerindian</th>\n",
       "      <th>pct_nativehawaii</th>\n",
       "      <th>pct_tworaces</th>\n",
       "    </tr>\n",
       "  </thead>\n",
       "  <tbody>\n",
       "    <tr>\n",
       "      <th>0</th>\n",
       "      <td>10000500871</td>\n",
       "      <td>Albertville High Sch</td>\n",
       "      <td>402 E McCord Ave</td>\n",
       "      <td>Albertville</td>\n",
       "      <td>AL</td>\n",
       "      <td>35950</td>\n",
       "      <td>32</td>\n",
       "      <td>16.999999</td>\n",
       "      <td>54.000001</td>\n",
       "      <td>64.9018</td>\n",
       "      <td>2.0495</td>\n",
       "      <td>0.5978</td>\n",
       "      <td>31.4261</td>\n",
       "      <td>0.1708</td>\n",
       "      <td>0.0000</td>\n",
       "      <td>0.8540</td>\n",
       "    </tr>\n",
       "    <tr>\n",
       "      <th>1</th>\n",
       "      <td>10000600878</td>\n",
       "      <td>Douglas High Sch</td>\n",
       "      <td>225 Eagle Drive</td>\n",
       "      <td>Douglas</td>\n",
       "      <td>AL</td>\n",
       "      <td>35964</td>\n",
       "      <td>42</td>\n",
       "      <td>12.000000</td>\n",
       "      <td>51.999999</td>\n",
       "      <td>74.2373</td>\n",
       "      <td>1.5254</td>\n",
       "      <td>0.5085</td>\n",
       "      <td>23.0508</td>\n",
       "      <td>0.6780</td>\n",
       "      <td>0.0000</td>\n",
       "      <td>0.0000</td>\n",
       "    </tr>\n",
       "    <tr>\n",
       "      <th>2</th>\n",
       "      <td>10000600883</td>\n",
       "      <td>Kate D Smith DAR High Sch</td>\n",
       "      <td>6077 Main St</td>\n",
       "      <td>Grant</td>\n",
       "      <td>AL</td>\n",
       "      <td>35747</td>\n",
       "      <td>42</td>\n",
       "      <td>22.000000</td>\n",
       "      <td>72.000000</td>\n",
       "      <td>97.0588</td>\n",
       "      <td>0.6303</td>\n",
       "      <td>0.2101</td>\n",
       "      <td>1.6807</td>\n",
       "      <td>0.0000</td>\n",
       "      <td>0.0000</td>\n",
       "      <td>0.4202</td>\n",
       "    </tr>\n",
       "    <tr>\n",
       "      <th>3</th>\n",
       "      <td>10000601585</td>\n",
       "      <td>Brindlee Mt High Sch</td>\n",
       "      <td>994 Scant City Road</td>\n",
       "      <td>Guntersville</td>\n",
       "      <td>AL</td>\n",
       "      <td>35976</td>\n",
       "      <td>41</td>\n",
       "      <td>21.999999</td>\n",
       "      <td>57.000000</td>\n",
       "      <td>93.5310</td>\n",
       "      <td>1.6173</td>\n",
       "      <td>0.5391</td>\n",
       "      <td>3.7736</td>\n",
       "      <td>0.2695</td>\n",
       "      <td>0.0000</td>\n",
       "      <td>0.2695</td>\n",
       "    </tr>\n",
       "    <tr>\n",
       "      <th>4</th>\n",
       "      <td>10000700251</td>\n",
       "      <td>Hoover High Sch</td>\n",
       "      <td>1000 Buccaneer Drive</td>\n",
       "      <td>Hoover</td>\n",
       "      <td>AL</td>\n",
       "      <td>35244</td>\n",
       "      <td>13</td>\n",
       "      <td>39.999998</td>\n",
       "      <td>75.000000</td>\n",
       "      <td>57.5275</td>\n",
       "      <td>28.4803</td>\n",
       "      <td>6.3762</td>\n",
       "      <td>4.5696</td>\n",
       "      <td>0.0000</td>\n",
       "      <td>0.0708</td>\n",
       "      <td>2.9756</td>\n",
       "    </tr>\n",
       "  </tbody>\n",
       "</table>\n",
       "</div>"
      ],
      "text/plain": [
       "     school_id                school_name        street_address          city  \\\n",
       "0  10000500871       Albertville High Sch      402 E McCord Ave   Albertville   \n",
       "1  10000600878           Douglas High Sch       225 Eagle Drive       Douglas   \n",
       "2  10000600883  Kate D Smith DAR High Sch          6077 Main St         Grant   \n",
       "3  10000601585       Brindlee Mt High Sch   994 Scant City Road  Guntersville   \n",
       "4  10000700251            Hoover High Sch  1000 Buccaneer Drive        Hoover   \n",
       "\n",
       "  state_code  zip_code locale_code  pct_proficient_math  \\\n",
       "0         AL     35950          32            16.999999   \n",
       "1         AL     35964          42            12.000000   \n",
       "2         AL     35747          42            22.000000   \n",
       "3         AL     35976          41            21.999999   \n",
       "4         AL     35244          13            39.999998   \n",
       "\n",
       "   pct_proficient_reading  pct_white  pct_black  pct_asian  pct_hispanic  \\\n",
       "0               54.000001    64.9018     2.0495     0.5978       31.4261   \n",
       "1               51.999999    74.2373     1.5254     0.5085       23.0508   \n",
       "2               72.000000    97.0588     0.6303     0.2101        1.6807   \n",
       "3               57.000000    93.5310     1.6173     0.5391        3.7736   \n",
       "4               75.000000    57.5275    28.4803     6.3762        4.5696   \n",
       "\n",
       "   pct_amerindian  pct_nativehawaii  pct_tworaces  \n",
       "0          0.1708            0.0000        0.8540  \n",
       "1          0.6780            0.0000        0.0000  \n",
       "2          0.0000            0.0000        0.4202  \n",
       "3          0.2695            0.0000        0.2695  \n",
       "4          0.0000            0.0708        2.9756  "
      ]
     },
     "execution_count": 8,
     "metadata": {},
     "output_type": "execute_result"
    }
   ],
   "source": [
    "df_schools = df.copy()\n",
    "df_schools.head()"
   ]
  },
  {
   "cell_type": "code",
   "execution_count": 9,
   "metadata": {},
   "outputs": [
    {
     "data": {
      "text/html": [
       "<div>\n",
       "<style scoped>\n",
       "    .dataframe tbody tr th:only-of-type {\n",
       "        vertical-align: middle;\n",
       "    }\n",
       "\n",
       "    .dataframe tbody tr th {\n",
       "        vertical-align: top;\n",
       "    }\n",
       "\n",
       "    .dataframe thead th {\n",
       "        text-align: right;\n",
       "    }\n",
       "</style>\n",
       "<table border=\"1\" class=\"dataframe\">\n",
       "  <thead>\n",
       "    <tr style=\"text-align: right;\">\n",
       "      <th></th>\n",
       "      <th>school_id</th>\n",
       "      <th>school_name</th>\n",
       "      <th>street_address</th>\n",
       "      <th>city</th>\n",
       "      <th>state_code</th>\n",
       "      <th>zip_code</th>\n",
       "      <th>locale_code</th>\n",
       "      <th>pct_proficient_math</th>\n",
       "      <th>pct_proficient_reading</th>\n",
       "      <th>pct_white</th>\n",
       "      <th>pct_black</th>\n",
       "      <th>pct_asian</th>\n",
       "      <th>pct_hispanic</th>\n",
       "      <th>pct_amerindian</th>\n",
       "      <th>pct_nativehawaii</th>\n",
       "      <th>pct_tworaces</th>\n",
       "    </tr>\n",
       "  </thead>\n",
       "  <tbody>\n",
       "    <tr>\n",
       "      <th>0</th>\n",
       "      <td>10000500871</td>\n",
       "      <td>Albertville High Sch</td>\n",
       "      <td>402 E McCord Ave</td>\n",
       "      <td>Albertville</td>\n",
       "      <td>AL</td>\n",
       "      <td>35950</td>\n",
       "      <td>32</td>\n",
       "      <td>16.999999</td>\n",
       "      <td>54.000001</td>\n",
       "      <td>64.9018</td>\n",
       "      <td>2.0495</td>\n",
       "      <td>0.5978</td>\n",
       "      <td>31.4261</td>\n",
       "      <td>0.1708</td>\n",
       "      <td>0.0000</td>\n",
       "      <td>0.8540</td>\n",
       "    </tr>\n",
       "    <tr>\n",
       "      <th>1</th>\n",
       "      <td>10000600878</td>\n",
       "      <td>Douglas High Sch</td>\n",
       "      <td>225 Eagle Drive</td>\n",
       "      <td>Douglas</td>\n",
       "      <td>AL</td>\n",
       "      <td>35964</td>\n",
       "      <td>42</td>\n",
       "      <td>12.000000</td>\n",
       "      <td>51.999999</td>\n",
       "      <td>74.2373</td>\n",
       "      <td>1.5254</td>\n",
       "      <td>0.5085</td>\n",
       "      <td>23.0508</td>\n",
       "      <td>0.6780</td>\n",
       "      <td>0.0000</td>\n",
       "      <td>0.0000</td>\n",
       "    </tr>\n",
       "    <tr>\n",
       "      <th>2</th>\n",
       "      <td>10000600883</td>\n",
       "      <td>Kate D Smith DAR High Sch</td>\n",
       "      <td>6077 Main St</td>\n",
       "      <td>Grant</td>\n",
       "      <td>AL</td>\n",
       "      <td>35747</td>\n",
       "      <td>42</td>\n",
       "      <td>22.000000</td>\n",
       "      <td>72.000000</td>\n",
       "      <td>97.0588</td>\n",
       "      <td>0.6303</td>\n",
       "      <td>0.2101</td>\n",
       "      <td>1.6807</td>\n",
       "      <td>0.0000</td>\n",
       "      <td>0.0000</td>\n",
       "      <td>0.4202</td>\n",
       "    </tr>\n",
       "    <tr>\n",
       "      <th>3</th>\n",
       "      <td>10000601585</td>\n",
       "      <td>Brindlee Mt High Sch</td>\n",
       "      <td>994 Scant City Road</td>\n",
       "      <td>Guntersville</td>\n",
       "      <td>AL</td>\n",
       "      <td>35976</td>\n",
       "      <td>41</td>\n",
       "      <td>21.999999</td>\n",
       "      <td>57.000000</td>\n",
       "      <td>93.5310</td>\n",
       "      <td>1.6173</td>\n",
       "      <td>0.5391</td>\n",
       "      <td>3.7736</td>\n",
       "      <td>0.2695</td>\n",
       "      <td>0.0000</td>\n",
       "      <td>0.2695</td>\n",
       "    </tr>\n",
       "    <tr>\n",
       "      <th>4</th>\n",
       "      <td>10000700251</td>\n",
       "      <td>Hoover High Sch</td>\n",
       "      <td>1000 Buccaneer Drive</td>\n",
       "      <td>Hoover</td>\n",
       "      <td>AL</td>\n",
       "      <td>35244</td>\n",
       "      <td>13</td>\n",
       "      <td>39.999998</td>\n",
       "      <td>75.000000</td>\n",
       "      <td>57.5275</td>\n",
       "      <td>28.4803</td>\n",
       "      <td>6.3762</td>\n",
       "      <td>4.5696</td>\n",
       "      <td>0.0000</td>\n",
       "      <td>0.0708</td>\n",
       "      <td>2.9756</td>\n",
       "    </tr>\n",
       "  </tbody>\n",
       "</table>\n",
       "</div>"
      ],
      "text/plain": [
       "     school_id                school_name        street_address          city  \\\n",
       "0  10000500871       Albertville High Sch      402 E McCord Ave   Albertville   \n",
       "1  10000600878           Douglas High Sch       225 Eagle Drive       Douglas   \n",
       "2  10000600883  Kate D Smith DAR High Sch          6077 Main St         Grant   \n",
       "3  10000601585       Brindlee Mt High Sch   994 Scant City Road  Guntersville   \n",
       "4  10000700251            Hoover High Sch  1000 Buccaneer Drive        Hoover   \n",
       "\n",
       "  state_code  zip_code locale_code  pct_proficient_math  \\\n",
       "0         AL     35950          32            16.999999   \n",
       "1         AL     35964          42            12.000000   \n",
       "2         AL     35747          42            22.000000   \n",
       "3         AL     35976          41            21.999999   \n",
       "4         AL     35244          13            39.999998   \n",
       "\n",
       "   pct_proficient_reading  pct_white  pct_black  pct_asian  pct_hispanic  \\\n",
       "0               54.000001    64.9018     2.0495     0.5978       31.4261   \n",
       "1               51.999999    74.2373     1.5254     0.5085       23.0508   \n",
       "2               72.000000    97.0588     0.6303     0.2101        1.6807   \n",
       "3               57.000000    93.5310     1.6173     0.5391        3.7736   \n",
       "4               75.000000    57.5275    28.4803     6.3762        4.5696   \n",
       "\n",
       "   pct_amerindian  pct_nativehawaii  pct_tworaces  \n",
       "0          0.1708            0.0000        0.8540  \n",
       "1          0.6780            0.0000        0.0000  \n",
       "2          0.0000            0.0000        0.4202  \n",
       "3          0.2695            0.0000        0.2695  \n",
       "4          0.0000            0.0708        2.9756  "
      ]
     },
     "execution_count": 9,
     "metadata": {},
     "output_type": "execute_result"
    }
   ],
   "source": [
    "df_school_statistics = df.copy()\n",
    "df_school_statistics.head()"
   ]
  },
  {
   "cell_type": "markdown",
   "metadata": {},
   "source": [
    "### Drop necessary columns"
   ]
  },
  {
   "cell_type": "code",
   "execution_count": 10,
   "metadata": {},
   "outputs": [
    {
     "name": "stdout",
     "output_type": "stream",
     "text": [
      "<class 'pandas.core.frame.DataFrame'>\n",
      "RangeIndex: 16623 entries, 0 to 16622\n",
      "Data columns (total 7 columns):\n",
      " #   Column          Non-Null Count  Dtype \n",
      "---  ------          --------------  ----- \n",
      " 0   school_id       16623 non-null  int64 \n",
      " 1   school_name     16623 non-null  object\n",
      " 2   street_address  16623 non-null  object\n",
      " 3   city            16623 non-null  object\n",
      " 4   state_code      16623 non-null  object\n",
      " 5   zip_code        16623 non-null  int64 \n",
      " 6   locale_code     16623 non-null  object\n",
      "dtypes: int64(2), object(5)\n",
      "memory usage: 909.2+ KB\n"
     ]
    }
   ],
   "source": [
    "column_list = ['school_id', 'school_name', 'street_address', 'city', 'state_code', 'zip_code', 'locale_code']\n",
    "\n",
    "df_schools = df_schools[['school_id', 'school_name', 'street_address', 'city', 'state_code', 'zip_code', 'locale_code']]\n",
    "df_schools.info()"
   ]
  },
  {
   "cell_type": "code",
   "execution_count": 11,
   "metadata": {},
   "outputs": [
    {
     "name": "stdout",
     "output_type": "stream",
     "text": [
      "<class 'pandas.core.frame.DataFrame'>\n",
      "RangeIndex: 16623 entries, 0 to 16622\n",
      "Data columns (total 10 columns):\n",
      " #   Column                  Non-Null Count  Dtype  \n",
      "---  ------                  --------------  -----  \n",
      " 0   school_id               16623 non-null  int64  \n",
      " 1   pct_proficient_math     15773 non-null  float64\n",
      " 2   pct_proficient_reading  15820 non-null  float64\n",
      " 3   pct_white               16483 non-null  float64\n",
      " 4   pct_black               16483 non-null  float64\n",
      " 5   pct_asian               16483 non-null  float64\n",
      " 6   pct_hispanic            16483 non-null  float64\n",
      " 7   pct_amerindian          16483 non-null  float64\n",
      " 8   pct_nativehawaii        16483 non-null  float64\n",
      " 9   pct_tworaces            16483 non-null  float64\n",
      "dtypes: float64(9), int64(1)\n",
      "memory usage: 1.3 MB\n"
     ]
    }
   ],
   "source": [
    "df_school_statistics.drop(columns=['school_name', 'street_address', 'city', 'state_code', 'zip_code', 'locale_code'], inplace=True)\n",
    "df_school_statistics.info()"
   ]
  },
  {
   "cell_type": "markdown",
   "metadata": {},
   "source": [
    "### Save to datasets directory for import into database"
   ]
  },
  {
   "cell_type": "code",
   "execution_count": 12,
   "metadata": {},
   "outputs": [],
   "source": [
    "df_schools.to_csv('../datasets/schools_data.csv', index=False)\n",
    "df_school_statistics.to_csv('../datasets/school_statistics_data.csv', index=False)"
   ]
  },
  {
   "cell_type": "code",
   "execution_count": null,
   "metadata": {},
   "outputs": [],
   "source": []
  }
 ],
 "metadata": {
  "kernelspec": {
   "display_name": "Python 3",
   "language": "python",
   "name": "python3"
  },
  "language_info": {
   "codemirror_mode": {
    "name": "ipython",
    "version": 3
   },
   "file_extension": ".py",
   "mimetype": "text/x-python",
   "name": "python",
   "nbconvert_exporter": "python",
   "pygments_lexer": "ipython3",
   "version": "3.7.6"
  }
 },
 "nbformat": 4,
 "nbformat_minor": 4
}
